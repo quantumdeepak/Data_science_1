{
  "cells": [
    {
      "cell_type": "markdown",
      "metadata": {
        "id": "7a4rGRDqUbY9"
      },
      "source": [
        "## Implementing the callback functions in Tensorflow"
      ]
    },
    {
      "cell_type": "code",
      "execution_count": 2,
      "metadata": {
        "id": "3E2pnI9l2aVb"
      },
      "outputs": [],
      "source": [
        "import keras"
      ]
    },
    {
      "cell_type": "code",
      "execution_count": 3,
      "metadata": {
        "id": "rfeajGVATYuF"
      },
      "outputs": [],
      "source": [
        "import tensorflow as tf"
      ]
    },
    {
      "cell_type": "code",
      "execution_count": 4,
      "metadata": {
        "id": "E7mTBejfTtQt"
      },
      "outputs": [],
      "source": [
        "import numpy as np\n",
        "import pandas as pd\n",
        "import matplotlib.pyplot as plt\n",
        "import seaborn as sns\n",
        "import os"
      ]
    },
    {
      "cell_type": "markdown",
      "metadata": {
        "id": "CsGAZpQFqRDA"
      },
      "source": [
        "#### Acessing the google drive con-tent"
      ]
    },
    {
      "cell_type": "code",
      "execution_count": 5,
      "metadata": {
        "id": "-YYXu6g_UMoo"
      },
      "outputs": [],
      "source": [
        "from google.colab import drive"
      ]
    },
    {
      "cell_type": "code",
      "execution_count": 6,
      "metadata": {
        "colab": {
          "base_uri": "https://localhost:8080/"
        },
        "id": "bczJuhKmqJuy",
        "outputId": "1bc5e80a-02eb-4149-ced5-7a5f36acb6de"
      },
      "outputs": [
        {
          "name": "stdout",
          "output_type": "stream",
          "text": [
            "Mounted at /content/drive/\n"
          ]
        }
      ],
      "source": [
        "drive.mount('/content/drive/')"
      ]
    },
    {
      "cell_type": "code",
      "execution_count": 7,
      "metadata": {
        "colab": {
          "base_uri": "https://localhost:8080/"
        },
        "id": "mwGDWCT_qeSE",
        "outputId": "2d40d859-4059-42ae-b4de-f39511652b15"
      },
      "outputs": [
        {
          "name": "stdout",
          "output_type": "stream",
          "text": [
            "drive  sample_data\n"
          ]
        }
      ],
      "source": [
        "!ls"
      ]
    },
    {
      "cell_type": "code",
      "execution_count": 8,
      "metadata": {
        "colab": {
          "base_uri": "https://localhost:8080/"
        },
        "id": "E_VBkFrtqyiX",
        "outputId": "ac90e82c-10e6-46b0-d459-4eeb5e1f395d"
      },
      "outputs": [
        {
          "name": "stdout",
          "output_type": "stream",
          "text": [
            "/content\n"
          ]
        }
      ],
      "source": [
        "!pwd"
      ]
    },
    {
      "cell_type": "code",
      "execution_count": 9,
      "metadata": {
        "id": "iTvgMfXKqzi1"
      },
      "outputs": [],
      "source": [
        "os.chdir('/content/drive/MyDrive/My_Data')"
      ]
    },
    {
      "cell_type": "code",
      "execution_count": 10,
      "metadata": {
        "colab": {
          "base_uri": "https://localhost:8080/"
        },
        "id": "xPs-kQC80woD",
        "outputId": "bc0476cc-fa8c-44a8-8657-92207b0fdd3e"
      },
      "outputs": [
        {
          "name": "stdout",
          "output_type": "stream",
          "text": [
            "/content/drive/MyDrive/My_Data\n"
          ]
        }
      ],
      "source": [
        "!pwd"
      ]
    },
    {
      "cell_type": "code",
      "execution_count": 11,
      "metadata": {
        "colab": {
          "base_uri": "https://localhost:8080/",
          "height": 36
        },
        "id": "IN42GjtC0ywH",
        "outputId": "876a1bc1-db67-4af9-c2ef-5ba3cd55bb4e"
      },
      "outputs": [
        {
          "data": {
            "application/vnd.google.colaboratory.intrinsic+json": {
              "type": "string"
            },
            "text/plain": [
              "'/content/drive/MyDrive/My_Data'"
            ]
          },
          "execution_count": 11,
          "metadata": {},
          "output_type": "execute_result"
        }
      ],
      "source": [
        "os.getcwd()"
      ]
    },
    {
      "cell_type": "code",
      "execution_count": 12,
      "metadata": {
        "colab": {
          "base_uri": "https://localhost:8080/"
        },
        "id": "oVbnboYm3xCM",
        "outputId": "e436b8dd-2a43-4fe7-c777-9255ff034635"
      },
      "outputs": [
        {
          "data": {
            "text/plain": [
              "[PhysicalDevice(name='/physical_device:CPU:0', device_type='CPU'),\n",
              " PhysicalDevice(name='/physical_device:GPU:0', device_type='GPU')]"
            ]
          },
          "execution_count": 12,
          "metadata": {},
          "output_type": "execute_result"
        }
      ],
      "source": [
        "tf.config.list_physical_devices()"
      ]
    },
    {
      "cell_type": "code",
      "execution_count": 13,
      "metadata": {
        "id": "jajlzVvK02cP"
      },
      "outputs": [],
      "source": [
        "## Loading the dataset"
      ]
    },
    {
      "cell_type": "code",
      "execution_count": 14,
      "metadata": {
        "id": "a5r8SlFe0-rh"
      },
      "outputs": [],
      "source": [
        "mnist= tf.keras.datasets.mnist"
      ]
    },
    {
      "cell_type": "code",
      "execution_count": 15,
      "metadata": {
        "colab": {
          "base_uri": "https://localhost:8080/"
        },
        "id": "72bNdN8d3oiW",
        "outputId": "00d60610-d824-43bf-af9a-b36c389ee747"
      },
      "outputs": [
        {
          "name": "stdout",
          "output_type": "stream",
          "text": [
            "Downloading data from https://storage.googleapis.com/tensorflow/tf-keras-datasets/mnist.npz\n",
            "11490434/11490434 [==============================] - 0s 0us/step\n"
          ]
        }
      ],
      "source": [
        "(x_train,y_train),(x_test,y_test)=mnist.load_data()"
      ]
    },
    {
      "cell_type": "code",
      "execution_count": 16,
      "metadata": {
        "colab": {
          "base_uri": "https://localhost:8080/"
        },
        "id": "Q63xvu0D4vuS",
        "outputId": "7b00970f-78d7-4041-e67d-d846eb622d0c"
      },
      "outputs": [
        {
          "data": {
            "text/plain": [
              "((10000, 28, 28), (60000, 28, 28))"
            ]
          },
          "execution_count": 16,
          "metadata": {},
          "output_type": "execute_result"
        }
      ],
      "source": [
        "x_test.shape,x_train.shape"
      ]
    },
    {
      "cell_type": "code",
      "execution_count": 17,
      "metadata": {
        "colab": {
          "base_uri": "https://localhost:8080/"
        },
        "id": "Y8cWINFZ43BL",
        "outputId": "1a964770-079c-49d3-c90d-b27db70622ee"
      },
      "outputs": [
        {
          "data": {
            "text/plain": [
              "28"
            ]
          },
          "execution_count": 17,
          "metadata": {},
          "output_type": "execute_result"
        }
      ],
      "source": [
        "len(x_train[0][0])"
      ]
    },
    {
      "cell_type": "code",
      "execution_count": 18,
      "metadata": {
        "id": "F_GPfmcH4-HB"
      },
      "outputs": [],
      "source": [
        "x_train=x_train/255\n",
        "x_test=x_test/255"
      ]
    },
    {
      "cell_type": "code",
      "execution_count": 19,
      "metadata": {
        "colab": {
          "base_uri": "https://localhost:8080/",
          "height": 447
        },
        "id": "90Kucqdt5aMc",
        "outputId": "c8793b50-7b2f-4c8c-82fc-0e009106377a"
      },
      "outputs": [
        {
          "data": {
            "text/plain": [
              "<matplotlib.image.AxesImage at 0x7afd7cdaeaa0>"
            ]
          },
          "execution_count": 19,
          "metadata": {},
          "output_type": "execute_result"
        },
        {
          "data": {
            "image/png": "[encoded data removed]",
            "text/plain": [
              "<Figure size 640x480 with 1 Axes>"
            ]
          },
          "metadata": {},
          "output_type": "display_data"
        }
      ],
      "source": [
        "plt.imshow(x_train[0])"
      ]
    },
    {
      "cell_type": "code",
      "execution_count": 20,
      "metadata": {
        "colab": {
          "base_uri": "https://localhost:8080/",
          "height": 1000
        },
        "id": "Dxf_bKMM5ihG",
        "outputId": "5046ae95-dbde-4efd-ec9a-62617fe475bf"
      },
      "outputs": [
        {
          "data": {
            "text/plain": [
              "<Axes: >"
            ]
          },
          "execution_count": 20,
          "metadata": {},
          "output_type": "execute_result"
        },
        {
          "data": {
            "image/png": "[encoded data removed]",
            "text/plain": [
              "<Figure size 1500x1500 with 2 Axes>"
            ]
          },
          "metadata": {},
          "output_type": "display_data"
        }
      ],
      "source": [
        "plt.figure(figsize= (15,15))\n",
        "sns.heatmap(x_train[0],annot=True)"
      ]
    },
    {
      "cell_type": "code",
      "execution_count": 21,
      "metadata": {
        "id": "PbVw24V550uu"
      },
      "outputs": [],
      "source": [
        "Layers = [\n",
        "    tf.keras.layers.Flatten(input_shape= [28,28], name=\"input_layer\"),\n",
        "    tf.keras.layers.Dense(300,activation=\"relu\",name=\"Hidden_1\"),\n",
        "    tf.keras.layers.Dense(100,activation=\"relu\",name=\"Hidden_2\"),\n",
        "    tf.keras.layers.Dense(10,activation=\"softmax\",name=\"output_layer\")\n",
        "]"
      ]
    },
    {
      "cell_type": "code",
      "execution_count": 22,
      "metadata": {
        "id": "xH0L9SaG6ilQ"
      },
      "outputs": [],
      "source": [
        "model_clf = tf.keras.models.Sequential(Layers)"
      ]
    },
    {
      "cell_type": "code",
      "execution_count": 23,
      "metadata": {
        "colab": {
          "base_uri": "https://localhost:8080/"
        },
        "id": "TJnvm2uA2Iej",
        "outputId": "4963b682-7164-432c-c4ed-40956c928b82"
      },
      "outputs": [
        {
          "data": {
            "text/plain": [
              "[<keras.src.layers.reshaping.flatten.Flatten at 0x7afd5f756a40>,\n",
              " <keras.src.layers.core.dense.Dense at 0x7afd5f757820>,\n",
              " <keras.src.layers.core.dense.Dense at 0x7afd5f757880>,\n",
              " <keras.src.layers.core.dense.Dense at 0x7afd5f757c70>]"
            ]
          },
          "execution_count": 23,
          "metadata": {},
          "output_type": "execute_result"
        }
      ],
      "source": [
        "model_clf.layers"
      ]
    },
    {
      "cell_type": "code",
      "execution_count": 24,
      "metadata": {
        "colab": {
          "base_uri": "https://localhost:8080/"
        },
        "id": "qD79-WrF2L1a",
        "outputId": "1d4c623d-3b70-41d3-e028-630e4b226f08"
      },
      "outputs": [
        {
          "name": "stdout",
          "output_type": "stream",
          "text": [
            "Model: \"sequential\"\n",
            "_________________________________________________________________\n",
            " Layer (type)                Output Shape              Param #   \n",
            "=================================================================\n",
            " input_layer (Flatten)       (None, 784)               0         \n",
            "                                                                 \n",
            " Hidden_1 (Dense)            (None, 300)               235500    \n",
            "                                                                 \n",
            " Hidden_2 (Dense)            (None, 100)               30100     \n",
            "                                                                 \n",
            " output_layer (Dense)        (None, 10)                1010      \n",
            "                                                                 \n",
            "=================================================================\n",
            "Total params: 266610 (1.02 MB)\n",
            "Trainable params: 266610 (1.02 MB)\n",
            "Non-trainable params: 0 (0.00 Byte)\n",
            "_________________________________________________________________\n"
          ]
        }
      ],
      "source": [
        "model_clf.summary()"
      ]
    },
    {
      "cell_type": "code",
      "execution_count": 25,
      "metadata": {
        "colab": {
          "base_uri": "https://localhost:8080/",
          "height": 36
        },
        "id": "TTKKFCgb2PtF",
        "outputId": "6a7534d1-e392-4606-a464-7fe8a7afc54c"
      },
      "outputs": [
        {
          "data": {
            "application/vnd.google.colaboratory.intrinsic+json": {
              "type": "string"
            },
            "text/plain": [
              "'Hidden_1'"
            ]
          },
          "execution_count": 25,
          "metadata": {},
          "output_type": "execute_result"
        }
      ],
      "source": [
        "hidden_1= model_clf.layers[1]\n",
        "hidden_1.name"
      ]
    },
    {
      "cell_type": "code",
      "execution_count": 26,
      "metadata": {
        "colab": {
          "base_uri": "https://localhost:8080/"
        },
        "id": "rpQmYMri2jWe",
        "outputId": "c9464ba2-1535-4ccd-ad6a-96aa9fa78d70"
      },
      "outputs": [
        {
          "data": {
            "text/plain": [
              "[array([[ 0.05310278, -0.0501215 ,  0.06347379, ...,  0.00922573,\n",
              "         -0.00617396, -0.06449808],\n",
              "        [ 0.02871684,  0.03881071, -0.0039155 , ...,  0.04560503,\n",
              "         -0.01615369,  0.06154393],\n",
              "        [ 0.00521303,  0.02091011, -0.0108562 , ...,  0.05796273,\n",
              "         -0.062355  ,  0.00710685],\n",
              "        ...,\n",
              "        [-0.03039271, -0.0372606 ,  0.04440778, ..., -0.06140547,\n",
              "          0.03530741,  0.01946254],\n",
              "        [-0.01962094,  0.03528427, -0.04055556, ...,  0.00252958,\n",
              "         -0.05673667, -0.01578759],\n",
              "        [-0.0176773 ,  0.03799475,  0.00096641, ..., -0.07140061,\n",
              "          0.02193889, -0.01423507]], dtype=float32),\n",
              " array([0., 0., 0., 0., 0., 0., 0., 0., 0., 0., 0., 0., 0., 0., 0., 0., 0.,\n",
              "        0., 0., 0., 0., 0., 0., 0., 0., 0., 0., 0., 0., 0., 0., 0., 0., 0.,\n",
              "        0., 0., 0., 0., 0., 0., 0., 0., 0., 0., 0., 0., 0., 0., 0., 0., 0.,\n",
              "        0., 0., 0., 0., 0., 0., 0., 0., 0., 0., 0., 0., 0., 0., 0., 0., 0.,\n",
              "        0., 0., 0., 0., 0., 0., 0., 0., 0., 0., 0., 0., 0., 0., 0., 0., 0.,\n",
              "        0., 0., 0., 0., 0., 0., 0., 0., 0., 0., 0., 0., 0., 0., 0., 0., 0.,\n",
              "        0., 0., 0., 0., 0., 0., 0., 0., 0., 0., 0., 0., 0., 0., 0., 0., 0.,\n",
              "        0., 0., 0., 0., 0., 0., 0., 0., 0., 0., 0., 0., 0., 0., 0., 0., 0.,\n",
              "        0., 0., 0., 0., 0., 0., 0., 0., 0., 0., 0., 0., 0., 0., 0., 0., 0.,\n",
              "        0., 0., 0., 0., 0., 0., 0., 0., 0., 0., 0., 0., 0., 0., 0., 0., 0.,\n",
              "        0., 0., 0., 0., 0., 0., 0., 0., 0., 0., 0., 0., 0., 0., 0., 0., 0.,\n",
              "        0., 0., 0., 0., 0., 0., 0., 0., 0., 0., 0., 0., 0., 0., 0., 0., 0.,\n",
              "        0., 0., 0., 0., 0., 0., 0., 0., 0., 0., 0., 0., 0., 0., 0., 0., 0.,\n",
              "        0., 0., 0., 0., 0., 0., 0., 0., 0., 0., 0., 0., 0., 0., 0., 0., 0.,\n",
              "        0., 0., 0., 0., 0., 0., 0., 0., 0., 0., 0., 0., 0., 0., 0., 0., 0.,\n",
              "        0., 0., 0., 0., 0., 0., 0., 0., 0., 0., 0., 0., 0., 0., 0., 0., 0.,\n",
              "        0., 0., 0., 0., 0., 0., 0., 0., 0., 0., 0., 0., 0., 0., 0., 0., 0.,\n",
              "        0., 0., 0., 0., 0., 0., 0., 0., 0., 0., 0.], dtype=float32)]"
            ]
          },
          "execution_count": 26,
          "metadata": {},
          "output_type": "execute_result"
        }
      ],
      "source": [
        "hidden_1.get_weights()"
      ]
    },
    {
      "cell_type": "code",
      "execution_count": 27,
      "metadata": {
        "id": "CY5KJU1s3Ar9"
      },
      "outputs": [],
      "source": [
        "weight,bias = hidden_1.get_weights()"
      ]
    },
    {
      "cell_type": "code",
      "execution_count": 28,
      "metadata": {
        "colab": {
          "base_uri": "https://localhost:8080/"
        },
        "id": "Ep1RrQlL3KFO",
        "outputId": "6b2148d3-c62d-46ea-8552-8f108aa81037"
      },
      "outputs": [
        {
          "data": {
            "text/plain": [
              "(784, 300)"
            ]
          },
          "execution_count": 28,
          "metadata": {},
          "output_type": "execute_result"
        }
      ],
      "source": [
        "weight.shape"
      ]
    },
    {
      "cell_type": "code",
      "execution_count": 29,
      "metadata": {
        "id": "GdmQZOWTBBK3"
      },
      "outputs": [],
      "source": [
        "loss_fn = keras.losses.SparseCategoricalCrossentropy()"
      ]
    },
    {
      "cell_type": "code",
      "execution_count": 30,
      "metadata": {
        "id": "teXs17jv3MrE"
      },
      "outputs": [],
      "source": [
        "model_clf.compile(loss= loss_fn,\n",
        "                  optimizer=\"SGD\",\n",
        "                  metrics=['accuracy']\n",
        "                  )"
      ]
    },
    {
      "cell_type": "markdown",
      "metadata": {
        "id": "CsBr1tTL33ST"
      },
      "source": [
        "### Tensorbord callback Function"
      ]
    },
    {
      "cell_type": "code",
      "execution_count": 31,
      "metadata": {
        "id": "4c4sdVdz31mD"
      },
      "outputs": [],
      "source": [
        "import time\n",
        "\n",
        "def get_log_path(log_dir=\"logs/fit\"):\n",
        "  file_name = time.strftime(\"log_%Y_%m_%d_%H_%M_%s\")\n",
        "  logs_path = os.path.join(log_dir,file_name)\n",
        "  print(\"Saving the logs at \", logs_path)\n",
        "  return logs_path\n"
      ]
    },
    {
      "cell_type": "code",
      "execution_count": 32,
      "metadata": {
        "colab": {
          "base_uri": "https://localhost:8080/"
        },
        "id": "NGZaQyHm7mdF",
        "outputId": "4d7ec891-d290-42c5-bffa-ac458c843c46"
      },
      "outputs": [
        {
          "name": "stdout",
          "output_type": "stream",
          "text": [
            "Saving the logs at  logs/fit/log_2024_02_21_04_58_1708491534\n"
          ]
        }
      ],
      "source": [
        "log_dir = get_log_path()\n",
        "tb_cb = tf.keras.callbacks.TensorBoard(log_dir=log_dir)\n",
        "# tb_cb is representing tensorbord Callback"
      ]
    },
    {
      "cell_type": "markdown",
      "metadata": {
        "id": "bWjlfyxt8MKg"
      },
      "source": [
        "### Early Stopping Callback\n",
        "If we dont specify any parameters then by default it will monitor  the velidation loss"
      ]
    },
    {
      "cell_type": "code",
      "execution_count": 33,
      "metadata": {
        "id": "9Xy7e8y6_o-4"
      },
      "outputs": [],
      "source": [
        "early_stopping_cb = tf.keras.callbacks.EarlyStopping(patience=5, restore_best_weights=True)"
      ]
    },
    {
      "cell_type": "markdown",
      "metadata": {
        "id": "-fNU7JMR_4CP"
      },
      "source": [
        "### Model CheckPoint"
      ]
    },
    {
      "cell_type": "code",
      "execution_count": 34,
      "metadata": {
        "id": "A1zW4nfl7-E5"
      },
      "outputs": [],
      "source": [
        "ckpt_path = \"Model_ckpt.h5\"\n",
        "checkpointing_cb= tf.keras.callbacks.ModelCheckpoint(ckpt_path , save_best_only = True)\n"
      ]
    },
    {
      "cell_type": "code",
      "execution_count": 35,
      "metadata": {
        "id": "iw_-XpsEAOVR"
      },
      "outputs": [],
      "source": [
        "x_valid,x_train= x_train[:5000] , x_train[5000:]\n",
        "y_valid,y_train = y_train[:5000] , y_train[5000:]"
      ]
    },
    {
      "cell_type": "code",
      "execution_count": 36,
      "metadata": {
        "colab": {
          "base_uri": "https://localhost:8080/"
        },
        "id": "ON2gvBVL_DLS",
        "outputId": "d07cc1e0-45ec-4abb-c48e-ad760f20e086"
      },
      "outputs": [
        {
          "data": {
            "text/plain": [
              "[PhysicalDevice(name='/physical_device:CPU:0', device_type='CPU'),\n",
              " PhysicalDevice(name='/physical_device:GPU:0', device_type='GPU')]"
            ]
          },
          "execution_count": 36,
          "metadata": {},
          "output_type": "execute_result"
        }
      ],
      "source": [
        "tf.config.list_physical_devices()"
      ]
    },
    {
      "cell_type": "code",
      "execution_count": 37,
      "metadata": {
        "colab": {
          "base_uri": "https://localhost:8080/"
        },
        "id": "sRDox_YcABhm",
        "outputId": "ce6401aa-b77f-49e7-f9e5-646c86946655"
      },
      "outputs": [
        {
          "name": "stdout",
          "output_type": "stream",
          "text": [
            "Epoch 1/30\n",
            "1719/1719 [==============================] - 9s 4ms/step - loss: 0.6269 - accuracy: 0.8371 - val_loss: 0.3079 - val_accuracy: 0.9182\n",
            "Epoch 2/30\n",
            "  51/1719 [..............................] - ETA: 5s - loss: 0.3268 - accuracy: 0.9093"
          ]
        },
        {
          "name": "stderr",
          "output_type": "stream",
          "text": [
            "/usr/local/lib/python3.10/dist-packages/keras/src/engine/training.py:3103: UserWarning: You are saving your model as an HDF5 file via `model.save()`. This file format is considered legacy. We recommend using instead the native Keras format, e.g. `model.save('my_model.keras')`.\n",
            "  saving_api.save_model(\n"
          ]
        },
        {
          "name": "stdout",
          "output_type": "stream",
          "text": [
            "1719/1719 [==============================] - 6s 3ms/step - loss: 0.2902 - accuracy: 0.9177 - val_loss: 0.2426 - val_accuracy: 0.9332\n",
            "Epoch 3/30\n",
            "1719/1719 [==============================] - 7s 4ms/step - loss: 0.2360 - accuracy: 0.9328 - val_loss: 0.2050 - val_accuracy: 0.9412\n",
            "Epoch 4/30\n",
            "1719/1719 [==============================] - 6s 3ms/step - loss: 0.2010 - accuracy: 0.9426 - val_loss: 0.1797 - val_accuracy: 0.9500\n",
            "Epoch 5/30\n",
            "1719/1719 [==============================] - 7s 4ms/step - loss: 0.1753 - accuracy: 0.9499 - val_loss: 0.1599 - val_accuracy: 0.9544\n",
            "Epoch 6/30\n",
            "1719/1719 [==============================] - 7s 4ms/step - loss: 0.1556 - accuracy: 0.9556 - val_loss: 0.1473 - val_accuracy: 0.9582\n",
            "Epoch 7/30\n",
            "1719/1719 [==============================] - 6s 4ms/step - loss: 0.1393 - accuracy: 0.9612 - val_loss: 0.1343 - val_accuracy: 0.9634\n",
            "Epoch 8/30\n",
            "1719/1719 [==============================] - 6s 3ms/step - loss: 0.1259 - accuracy: 0.9650 - val_loss: 0.1230 - val_accuracy: 0.9684\n",
            "Epoch 9/30\n",
            "1719/1719 [==============================] - 8s 5ms/step - loss: 0.1149 - accuracy: 0.9678 - val_loss: 0.1144 - val_accuracy: 0.9672\n",
            "Epoch 10/30\n",
            "1719/1719 [==============================] - 6s 3ms/step - loss: 0.1052 - accuracy: 0.9706 - val_loss: 0.1099 - val_accuracy: 0.9704\n",
            "Epoch 11/30\n",
            "1719/1719 [==============================] - 6s 4ms/step - loss: 0.0967 - accuracy: 0.9733 - val_loss: 0.1053 - val_accuracy: 0.9704\n",
            "Epoch 12/30\n",
            "1719/1719 [==============================] - 6s 3ms/step - loss: 0.0898 - accuracy: 0.9748 - val_loss: 0.0994 - val_accuracy: 0.9702\n",
            "Epoch 13/30\n",
            "1719/1719 [==============================] - 7s 4ms/step - loss: 0.0828 - accuracy: 0.9779 - val_loss: 0.0932 - val_accuracy: 0.9728\n",
            "Epoch 14/30\n",
            "1719/1719 [==============================] - 6s 3ms/step - loss: 0.0771 - accuracy: 0.9790 - val_loss: 0.0901 - val_accuracy: 0.9724\n",
            "Epoch 15/30\n",
            "1719/1719 [==============================] - 6s 4ms/step - loss: 0.0717 - accuracy: 0.9806 - val_loss: 0.0858 - val_accuracy: 0.9742\n",
            "Epoch 16/30\n",
            "1719/1719 [==============================] - 6s 3ms/step - loss: 0.0671 - accuracy: 0.9817 - val_loss: 0.0840 - val_accuracy: 0.9752\n",
            "Epoch 17/30\n",
            "1719/1719 [==============================] - 7s 4ms/step - loss: 0.0625 - accuracy: 0.9836 - val_loss: 0.0825 - val_accuracy: 0.9744\n",
            "Epoch 18/30\n",
            "1719/1719 [==============================] - 7s 4ms/step - loss: 0.0589 - accuracy: 0.9839 - val_loss: 0.0843 - val_accuracy: 0.9764\n",
            "Epoch 19/30\n",
            "1719/1719 [==============================] - 7s 4ms/step - loss: 0.0551 - accuracy: 0.9853 - val_loss: 0.0784 - val_accuracy: 0.9772\n",
            "Epoch 20/30\n",
            "1719/1719 [==============================] - 6s 4ms/step - loss: 0.0521 - accuracy: 0.9857 - val_loss: 0.0778 - val_accuracy: 0.9788\n",
            "Epoch 21/30\n",
            "1719/1719 [==============================] - 8s 5ms/step - loss: 0.0488 - accuracy: 0.9874 - val_loss: 0.0764 - val_accuracy: 0.9782\n",
            "Epoch 22/30\n",
            "1719/1719 [==============================] - 6s 3ms/step - loss: 0.0460 - accuracy: 0.9879 - val_loss: 0.0742 - val_accuracy: 0.9794\n",
            "Epoch 23/30\n",
            "1719/1719 [==============================] - 7s 4ms/step - loss: 0.0435 - accuracy: 0.9888 - val_loss: 0.0739 - val_accuracy: 0.9798\n",
            "Epoch 24/30\n",
            "1719/1719 [==============================] - 6s 4ms/step - loss: 0.0409 - accuracy: 0.9896 - val_loss: 0.0717 - val_accuracy: 0.9806\n",
            "Epoch 25/30\n",
            "1719/1719 [==============================] - 7s 4ms/step - loss: 0.0389 - accuracy: 0.9901 - val_loss: 0.0716 - val_accuracy: 0.9798\n",
            "Epoch 26/30\n",
            "1719/1719 [==============================] - 6s 3ms/step - loss: 0.0363 - accuracy: 0.9910 - val_loss: 0.0740 - val_accuracy: 0.9788\n",
            "Epoch 27/30\n",
            "1719/1719 [==============================] - 7s 4ms/step - loss: 0.0346 - accuracy: 0.9914 - val_loss: 0.0709 - val_accuracy: 0.9794\n",
            "Epoch 28/30\n",
            "1719/1719 [==============================] - 6s 3ms/step - loss: 0.0325 - accuracy: 0.9921 - val_loss: 0.0717 - val_accuracy: 0.9808\n",
            "Epoch 29/30\n",
            "1719/1719 [==============================] - 7s 4ms/step - loss: 0.0309 - accuracy: 0.9928 - val_loss: 0.0693 - val_accuracy: 0.9812\n",
            "Epoch 30/30\n",
            "1719/1719 [==============================] - 6s 3ms/step - loss: 0.0294 - accuracy: 0.9932 - val_loss: 0.0708 - val_accuracy: 0.9800\n"
          ]
        }
      ],
      "source": [
        "# Original Train\n",
        "with tf.device('/GPU'):\n",
        "  history = model_clf.fit(x_train,y_train ,epochs=30 , validation_data=(x_valid,y_valid),batch_size=32,callbacks=[tb_cb,early_stopping_cb,checkpointing_cb])"
      ]
    },
    {
      "cell_type": "code",
      "execution_count": 39,
      "metadata": {
        "colab": {
          "base_uri": "https://localhost:8080/"
        },
        "id": "5NL2Sp5SCPwg",
        "outputId": "700f6279-82b1-4549-c1e2-87f27ca9bf13"
      },
      "outputs": [
        {
          "name": "stdout",
          "output_type": "stream",
          "text": [
            "Epoch 1/20\n",
            "1719/1719 [==============================] - 6s 3ms/step - loss: 0.0294 - accuracy: 0.9932 - val_loss: 0.0685 - val_accuracy: 0.9804\n",
            "Epoch 2/20\n",
            "  26/1719 [..............................] - ETA: 6s - loss: 0.0265 - accuracy: 0.9940"
          ]
        },
        {
          "name": "stderr",
          "output_type": "stream",
          "text": [
            "/usr/local/lib/python3.10/dist-packages/keras/src/engine/training.py:3103: UserWarning: You are saving your model as an HDF5 file via `model.save()`. This file format is considered legacy. We recommend using instead the native Keras format, e.g. `model.save('my_model.keras')`.\n",
            "  saving_api.save_model(\n"
          ]
        },
        {
          "name": "stdout",
          "output_type": "stream",
          "text": [
            "1719/1719 [==============================] - 8s 5ms/step - loss: 0.0277 - accuracy: 0.9938 - val_loss: 0.0713 - val_accuracy: 0.9802\n",
            "Epoch 3/20\n",
            "1719/1719 [==============================] - 11s 6ms/step - loss: 0.0261 - accuracy: 0.9943 - val_loss: 0.0683 - val_accuracy: 0.9810\n",
            "Epoch 4/20\n",
            "1719/1719 [==============================] - 8s 5ms/step - loss: 0.0248 - accuracy: 0.9947 - val_loss: 0.0690 - val_accuracy: 0.9808\n",
            "Epoch 5/20\n",
            "1719/1719 [==============================] - 9s 5ms/step - loss: 0.0237 - accuracy: 0.9949 - val_loss: 0.0700 - val_accuracy: 0.9806\n",
            "Epoch 6/20\n",
            "1719/1719 [==============================] - 6s 4ms/step - loss: 0.0225 - accuracy: 0.9954 - val_loss: 0.0680 - val_accuracy: 0.9800\n",
            "Epoch 7/20\n",
            "1719/1719 [==============================] - 6s 4ms/step - loss: 0.0212 - accuracy: 0.9956 - val_loss: 0.0676 - val_accuracy: 0.9816\n",
            "Epoch 8/20\n",
            "1719/1719 [==============================] - 6s 3ms/step - loss: 0.0202 - accuracy: 0.9960 - val_loss: 0.0674 - val_accuracy: 0.9810\n",
            "Epoch 9/20\n",
            "1719/1719 [==============================] - 7s 4ms/step - loss: 0.0191 - accuracy: 0.9966 - val_loss: 0.0673 - val_accuracy: 0.9812\n",
            "Epoch 10/20\n",
            "1719/1719 [==============================] - 6s 4ms/step - loss: 0.0182 - accuracy: 0.9969 - val_loss: 0.0681 - val_accuracy: 0.9816\n",
            "Epoch 11/20\n",
            "1719/1719 [==============================] - 7s 4ms/step - loss: 0.0172 - accuracy: 0.9970 - val_loss: 0.0683 - val_accuracy: 0.9802\n",
            "Epoch 12/20\n",
            "1719/1719 [==============================] - 6s 3ms/step - loss: 0.0164 - accuracy: 0.9973 - val_loss: 0.0684 - val_accuracy: 0.9810\n",
            "Epoch 13/20\n",
            "1719/1719 [==============================] - 7s 4ms/step - loss: 0.0155 - accuracy: 0.9975 - val_loss: 0.0698 - val_accuracy: 0.9802\n",
            "Epoch 14/20\n",
            "1719/1719 [==============================] - 6s 3ms/step - loss: 0.0147 - accuracy: 0.9979 - val_loss: 0.0680 - val_accuracy: 0.9816\n"
          ]
        }
      ],
      "source": [
        "### CheckPoint Traning\n",
        "\n",
        "with tf.device(\"/GPU\"):\n",
        "  ckpt_model = tf.keras.models.load_model(ckpt_path)\n",
        "  history = ckpt_model.fit(x_train,y_train,epochs = 20,\n",
        "                           validation_data = (x_valid,y_valid),batch_size=32,callbacks=[tb_cb,early_stopping_cb,checkpointing_cb])"
      ]
    },
    {
      "cell_type": "code",
      "execution_count": 42,
      "metadata": {
        "id": "7KOF-b6gGD9n"
      },
      "outputs": [],
      "source": [
        "### Saving the model\n",
        "import time\n",
        "import os\n",
        "\n",
        "def save_model_path(model_dir = \"Trained_Model\"):\n",
        "  os.makedirs(model_dir, exist_ok = True)\n",
        "  file_name = time.strftime(\"log_%Y_%m_%d_%H_%M_%s\")\n",
        "  model_path = os.path.join(model_dir,file_name)\n",
        "  print(\"model\" , file_name , \"will be saved at \", model_path)\n",
        "  return model_path"
      ]
    },
    {
      "cell_type": "code",
      "execution_count": 43,
      "metadata": {
        "colab": {
          "base_uri": "https://localhost:8080/",
          "height": 53
        },
        "id": "yYTFkpYlH9ix",
        "outputId": "4d28cf90-cf14-4508-c4bd-f6034b94b2cc"
      },
      "outputs": [
        {
          "name": "stdout",
          "output_type": "stream",
          "text": [
            "model log_2024_02_21_05_25_1708493159 will be saved at  Trained_Model/log_2024_02_21_05_25_1708493159\n"
          ]
        },
        {
          "data": {
            "application/vnd.google.colaboratory.intrinsic+json": {
              "type": "string"
            },
            "text/plain": [
              "'Trained_Model/log_2024_02_21_05_25_1708493159'"
            ]
          },
          "execution_count": 43,
          "metadata": {},
          "output_type": "execute_result"
        }
      ],
      "source": [
        "unique_path = save_model_path()\n",
        "unique_path"
      ]
    },
    {
      "cell_type": "code",
      "execution_count": 44,
      "metadata": {
        "id": "Rz6T_To7IFXW"
      },
      "outputs": [],
      "source": [
        "tf.keras.models.save_model(model_clf,unique_path)"
      ]
    },
    {
      "cell_type": "code",
      "execution_count": 45,
      "metadata": {
        "colab": {
          "base_uri": "https://localhost:8080/"
        },
        "id": "tW06qXbHIV66",
        "outputId": "959c8a61-2fa5-4557-dd8f-a03dacbde7c8"
      },
      "outputs": [
        {
          "data": {
            "text/plain": [
              "{'verbose': 1, 'epochs': 20, 'steps': 1719}"
            ]
          },
          "execution_count": 45,
          "metadata": {},
          "output_type": "execute_result"
        }
      ],
      "source": [
        "history.params"
      ]
    },
    {
      "cell_type": "code",
      "execution_count": 46,
      "metadata": {
        "id": "DRhoXARmIYwQ"
      },
      "outputs": [],
      "source": [
        "## history.history"
      ]
    },
    {
      "cell_type": "code",
      "execution_count": 47,
      "metadata": {
        "colab": {
          "base_uri": "https://localhost:8080/",
          "height": 488
        },
        "id": "Vzx54fK4Ic28",
        "outputId": "7f320cda-cf87-4ce7-e8e5-f14dc17d553f"
      },
      "outputs": [
        {
          "data": {
            "application/vnd.google.colaboratory.intrinsic+json": {
              "summary": "{\n  \"name\": \"pd\",\n  \"rows\": 14,\n  \"fields\": [\n    {\n      \"column\": \"loss\",\n      \"properties\": {\n        \"dtype\": \"number\",\n        \"std\": 0.004671482664665703,\n        \"min\": 0.014716855250298977,\n        \"max\": 0.029439199715852737,\n        \"num_unique_values\": 14,\n        \"samples\": [\n          0.01818733848631382,\n          0.016369910910725594,\n          0.029439199715852737\n        ],\n        \"semantic_type\": \"\",\n        \"description\": \"\"\n      }\n    },\n    {\n      \"column\": \"accuracy\",\n      \"properties\": {\n        \"dtype\": \"number\",\n        \"std\": 0.0014751262321663898,\n        \"min\": 0.9931818246841431,\n        \"max\": 0.9978545308113098,\n        \"num_unique_values\": 14,\n        \"samples\": [\n          0.9968727231025696,\n          0.9973454475402832,\n          0.9931818246841431\n        ],\n        \"semantic_type\": \"\",\n        \"description\": \"\"\n      }\n    },\n    {\n      \"column\": \"val_loss\",\n      \"properties\": {\n        \"dtype\": \"number\",\n        \"std\": 0.0011271357078436784,\n        \"min\": 0.06728216260671616,\n        \"max\": 0.07133074849843979,\n        \"num_unique_values\": 14,\n        \"samples\": [\n          0.06806521862745285,\n          0.06842881441116333,\n          0.06847387552261353\n        ],\n        \"semantic_type\": \"\",\n        \"description\": \"\"\n      }\n    },\n    {\n      \"column\": \"val_accuracy\",\n      \"properties\": {\n        \"dtype\": \"number\",\n        \"std\": 0.0005627573861428018,\n        \"min\": 0.9800000190734863,\n        \"max\": 0.9815999865531921,\n        \"num_unique_values\": 8,\n        \"samples\": [\n          0.9801999926567078,\n          0.9800000190734863,\n          0.980400025844574\n        ],\n        \"semantic_type\": \"\",\n        \"description\": \"\"\n      }\n    }\n  ]\n}",
              "type": "dataframe"
            },
            "text/html": [
              "\n",
              "  <div id=\"df-dc349405-27f1-4b91-9856-c6eab7ec32ee\" class=\"colab-df-container\">\n",
              "    <div>\n",
              "<style scoped>\n",
              "    .dataframe tbody tr th:only-of-type {\n",
              "        vertical-align: middle;\n",
              "    }\n",
              "\n",
              "    .dataframe tbody tr th {\n",
              "        vertical-align: top;\n",
              "    }\n",
              "\n",
              "    .dataframe thead th {\n",
              "        text-align: right;\n",
              "    }\n",
              "</style>\n",
              "<table border=\"1\" class=\"dataframe\">\n",
              "  <thead>\n",
              "    <tr style=\"text-align: right;\">\n",
              "      <th></th>\n",
              "      <th>loss</th>\n",
              "      <th>accuracy</th>\n",
              "      <th>val_loss</th>\n",
              "      <th>val_accuracy</th>\n",
              "    </tr>\n",
              "  </thead>\n",
              "  <tbody>\n",
              "    <tr>\n",
              "      <th>0</th>\n",
              "      <td>0.029439</td>\n",
              "      <td>0.993182</td>\n",
              "      <td>0.068474</td>\n",
              "      <td>0.9804</td>\n",
              "    </tr>\n",
              "    <tr>\n",
              "      <th>1</th>\n",
              "      <td>0.027736</td>\n",
              "      <td>0.993800</td>\n",
              "      <td>0.071331</td>\n",
              "      <td>0.9802</td>\n",
              "    </tr>\n",
              "    <tr>\n",
              "      <th>2</th>\n",
              "      <td>0.026119</td>\n",
              "      <td>0.994327</td>\n",
              "      <td>0.068348</td>\n",
              "      <td>0.9810</td>\n",
              "    </tr>\n",
              "    <tr>\n",
              "      <th>3</th>\n",
              "      <td>0.024823</td>\n",
              "      <td>0.994727</td>\n",
              "      <td>0.069009</td>\n",
              "      <td>0.9808</td>\n",
              "    </tr>\n",
              "    <tr>\n",
              "      <th>4</th>\n",
              "      <td>0.023712</td>\n",
              "      <td>0.994855</td>\n",
              "      <td>0.069974</td>\n",
              "      <td>0.9806</td>\n",
              "    </tr>\n",
              "    <tr>\n",
              "      <th>5</th>\n",
              "      <td>0.022461</td>\n",
              "      <td>0.995436</td>\n",
              "      <td>0.067973</td>\n",
              "      <td>0.9800</td>\n",
              "    </tr>\n",
              "    <tr>\n",
              "      <th>6</th>\n",
              "      <td>0.021241</td>\n",
              "      <td>0.995636</td>\n",
              "      <td>0.067556</td>\n",
              "      <td>0.9816</td>\n",
              "    </tr>\n",
              "    <tr>\n",
              "      <th>7</th>\n",
              "      <td>0.020161</td>\n",
              "      <td>0.996036</td>\n",
              "      <td>0.067419</td>\n",
              "      <td>0.9810</td>\n",
              "    </tr>\n",
              "    <tr>\n",
              "      <th>8</th>\n",
              "      <td>0.019101</td>\n",
              "      <td>0.996618</td>\n",
              "      <td>0.067282</td>\n",
              "      <td>0.9812</td>\n",
              "    </tr>\n",
              "    <tr>\n",
              "      <th>9</th>\n",
              "      <td>0.018187</td>\n",
              "      <td>0.996873</td>\n",
              "      <td>0.068065</td>\n",
              "      <td>0.9816</td>\n",
              "    </tr>\n",
              "    <tr>\n",
              "      <th>10</th>\n",
              "      <td>0.017225</td>\n",
              "      <td>0.997036</td>\n",
              "      <td>0.068316</td>\n",
              "      <td>0.9802</td>\n",
              "    </tr>\n",
              "    <tr>\n",
              "      <th>11</th>\n",
              "      <td>0.016370</td>\n",
              "      <td>0.997345</td>\n",
              "      <td>0.068429</td>\n",
              "      <td>0.9810</td>\n",
              "    </tr>\n",
              "    <tr>\n",
              "      <th>12</th>\n",
              "      <td>0.015531</td>\n",
              "      <td>0.997545</td>\n",
              "      <td>0.069849</td>\n",
              "      <td>0.9802</td>\n",
              "    </tr>\n",
              "    <tr>\n",
              "      <th>13</th>\n",
              "      <td>0.014717</td>\n",
              "      <td>0.997855</td>\n",
              "      <td>0.067995</td>\n",
              "      <td>0.9816</td>\n",
              "    </tr>\n",
              "  </tbody>\n",
              "</table>\n",
              "</div>\n",
              "    <div class=\"colab-df-buttons\">\n",
              "\n",
              "  <div class=\"colab-df-container\">\n",
              "    <button class=\"colab-df-convert\" onclick=\"convertToInteractive('df-dc349405-27f1-4b91-9856-c6eab7ec32ee')\"\n",
              "            title=\"Convert this dataframe to an interactive table.\"\n",
              "            style=\"display:none;\">\n",
              "\n",
              "  <svg xmlns=\"http://www.w3.org/2000/svg\" height=\"24px\" viewBox=\"0 -960 960 960\">\n",
              "    <path d=\"M120-120v-720h720v720H120Zm60-500h600v-160H180v160Zm220 220h160v-160H400v160Zm0 220h160v-160H400v160ZM180-400h160v-160H180v160Zm440 0h160v-160H620v160ZM180-180h160v-160H180v160Zm440 0h160v-160H620v160Z\"/>\n",
              "  </svg>\n",
              "    </button>\n",
              "\n",
              "  <style>\n",
              "    .colab-df-container {\n",
              "      display:flex;\n",
              "      gap: 12px;\n",
              "    }\n",
              "\n",
              "    .colab-df-convert {\n",
              "      background-color: #E8F0FE;\n",
              "      border: none;\n",
              "      border-radius: 50%;\n",
              "      cursor: pointer;\n",
              "      display: none;\n",
              "      fill: #1967D2;\n",
              "      height: 32px;\n",
              "      padding: 0 0 0 0;\n",
              "      width: 32px;\n",
              "    }\n",
              "\n",
              "    .colab-df-convert:hover {\n",
              "      background-color: #E2EBFA;\n",
              "      box-shadow: 0px 1px 2px rgba(60, 64, 67, 0.3), 0px 1px 3px 1px rgba(60, 64, 67, 0.15);\n",
              "      fill: #174EA6;\n",
              "    }\n",
              "\n",
              "    .colab-df-buttons div {\n",
              "      margin-bottom: 4px;\n",
              "    }\n",
              "\n",
              "    [theme=dark] .colab-df-convert {\n",
              "      background-color: #3B4455;\n",
              "      fill: #D2E3FC;\n",
              "    }\n",
              "\n",
              "    [theme=dark] .colab-df-convert:hover {\n",
              "      background-color: #434B5C;\n",
              "      box-shadow: 0px 1px 3px 1px rgba(0, 0, 0, 0.15);\n",
              "      filter: drop-shadow(0px 1px 2px rgba(0, 0, 0, 0.3));\n",
              "      fill: #FFFFFF;\n",
              "    }\n",
              "  </style>\n",
              "\n",
              "    <script>\n",
              "      const buttonEl =\n",
              "        document.querySelector('#df-dc349405-27f1-4b91-9856-c6eab7ec32ee button.colab-df-convert');\n",
              "      buttonEl.style.display =\n",
              "        google.colab.kernel.accessAllowed ? 'block' : 'none';\n",
              "\n",
              "      async function convertToInteractive(key) {\n",
              "        const element = document.querySelector('#df-dc349405-27f1-4b91-9856-c6eab7ec32ee');\n",
              "        const dataTable =\n",
              "          await google.colab.kernel.invokeFunction('convertToInteractive',\n",
              "                                                    [key], {});\n",
              "        if (!dataTable) return;\n",
              "\n",
              "        const docLinkHtml = 'Like what you see? Visit the ' +\n",
              "          '<a target=\"_blank\" href=https://colab.research.google.com/notebooks/data_table.ipynb>data table notebook</a>'\n",
              "          + ' to learn more about interactive tables.';\n",
              "        element.innerHTML = '';\n",
              "        dataTable['output_type'] = 'display_data';\n",
              "        await google.colab.output.renderOutput(dataTable, element);\n",
              "        const docLink = document.createElement('div');\n",
              "        docLink.innerHTML = docLinkHtml;\n",
              "        element.appendChild(docLink);\n",
              "      }\n",
              "    </script>\n",
              "  </div>\n",
              "\n",
              "\n",
              "<div id=\"df-c553c648-f97d-440f-8369-8e7242db60b0\">\n",
              "  <button class=\"colab-df-quickchart\" onclick=\"quickchart('df-c553c648-f97d-440f-8369-8e7242db60b0')\"\n",
              "            title=\"Suggest charts\"\n",
              "            style=\"display:none;\">\n",
              "\n",
              "<svg xmlns=\"http://www.w3.org/2000/svg\" height=\"24px\"viewBox=\"0 0 24 24\"\n",
              "     width=\"24px\">\n",
              "    <g>\n",
              "        <path d=\"M19 3H5c-1.1 0-2 .9-2 2v14c0 1.1.9 2 2 2h14c1.1 0 2-.9 2-2V5c0-1.1-.9-2-2-2zM9 17H7v-7h2v7zm4 0h-2V7h2v10zm4 0h-2v-4h2v4z\"/>\n",
              "    </g>\n",
              "</svg>\n",
              "  </button>\n",
              "\n",
              "<style>\n",
              "  .colab-df-quickchart {\n",
              "      --bg-color: #E8F0FE;\n",
              "      --fill-color: #1967D2;\n",
              "      --hover-bg-color: #E2EBFA;\n",
              "      --hover-fill-color: #174EA6;\n",
              "      --disabled-fill-color: #AAA;\n",
              "      --disabled-bg-color: #DDD;\n",
              "  }\n",
              "\n",
              "  [theme=dark] .colab-df-quickchart {\n",
              "      --bg-color: #3B4455;\n",
              "      --fill-color: #D2E3FC;\n",
              "      --hover-bg-color: #434B5C;\n",
              "      --hover-fill-color: #FFFFFF;\n",
              "      --disabled-bg-color: #3B4455;\n",
              "      --disabled-fill-color: #666;\n",
              "  }\n",
              "\n",
              "  .colab-df-quickchart {\n",
              "    background-color: var(--bg-color);\n",
              "    border: none;\n",
              "    border-radius: 50%;\n",
              "    cursor: pointer;\n",
              "    display: none;\n",
              "    fill: var(--fill-color);\n",
              "    height: 32px;\n",
              "    padding: 0;\n",
              "    width: 32px;\n",
              "  }\n",
              "\n",
              "  .colab-df-quickchart:hover {\n",
              "    background-color: var(--hover-bg-color);\n",
              "    box-shadow: 0 1px 2px rgba(60, 64, 67, 0.3), 0 1px 3px 1px rgba(60, 64, 67, 0.15);\n",
              "    fill: var(--button-hover-fill-color);\n",
              "  }\n",
              "\n",
              "  .colab-df-quickchart-complete:disabled,\n",
              "  .colab-df-quickchart-complete:disabled:hover {\n",
              "    background-color: var(--disabled-bg-color);\n",
              "    fill: var(--disabled-fill-color);\n",
              "    box-shadow: none;\n",
              "  }\n",
              "\n",
              "  .colab-df-spinner {\n",
              "    border: 2px solid var(--fill-color);\n",
              "    border-color: transparent;\n",
              "    border-bottom-color: var(--fill-color);\n",
              "    animation:\n",
              "      spin 1s steps(1) infinite;\n",
              "  }\n",
              "\n",
              "  @keyframes spin {\n",
              "    0% {\n",
              "      border-color: transparent;\n",
              "      border-bottom-color: var(--fill-color);\n",
              "      border-left-color: var(--fill-color);\n",
              "    }\n",
              "    20% {\n",
              "      border-color: transparent;\n",
              "      border-left-color: var(--fill-color);\n",
              "      border-top-color: var(--fill-color);\n",
              "    }\n",
              "    30% {\n",
              "      border-color: transparent;\n",
              "      border-left-color: var(--fill-color);\n",
              "      border-top-color: var(--fill-color);\n",
              "      border-right-color: var(--fill-color);\n",
              "    }\n",
              "    40% {\n",
              "      border-color: transparent;\n",
              "      border-right-color: var(--fill-color);\n",
              "      border-top-color: var(--fill-color);\n",
              "    }\n",
              "    60% {\n",
              "      border-color: transparent;\n",
              "      border-right-color: var(--fill-color);\n",
              "    }\n",
              "    80% {\n",
              "      border-color: transparent;\n",
              "      border-right-color: var(--fill-color);\n",
              "      border-bottom-color: var(--fill-color);\n",
              "    }\n",
              "    90% {\n",
              "      border-color: transparent;\n",
              "      border-bottom-color: var(--fill-color);\n",
              "    }\n",
              "  }\n",
              "</style>\n",
              "\n",
              "  <script>\n",
              "    async function quickchart(key) {\n",
              "      const quickchartButtonEl =\n",
              "        document.querySelector('#' + key + ' button');\n",
              "      quickchartButtonEl.disabled = true;  // To prevent multiple clicks.\n",
              "      quickchartButtonEl.classList.add('colab-df-spinner');\n",
              "      try {\n",
              "        const charts = await google.colab.kernel.invokeFunction(\n",
              "            'suggestCharts', [key], {});\n",
              "      } catch (error) {\n",
              "        console.error('Error during call to suggestCharts:', error);\n",
              "      }\n",
              "      quickchartButtonEl.classList.remove('colab-df-spinner');\n",
              "      quickchartButtonEl.classList.add('colab-df-quickchart-complete');\n",
              "    }\n",
              "    (() => {\n",
              "      let quickchartButtonEl =\n",
              "        document.querySelector('#df-c553c648-f97d-440f-8369-8e7242db60b0 button');\n",
              "      quickchartButtonEl.style.display =\n",
              "        google.colab.kernel.accessAllowed ? 'block' : 'none';\n",
              "    })();\n",
              "  </script>\n",
              "</div>\n",
              "\n",
              "    </div>\n",
              "  </div>\n"
            ],
            "text/plain": [
              "        loss  accuracy  val_loss  val_accuracy\n",
              "0   0.029439  0.993182  0.068474        0.9804\n",
              "1   0.027736  0.993800  0.071331        0.9802\n",
              "2   0.026119  0.994327  0.068348        0.9810\n",
              "3   0.024823  0.994727  0.069009        0.9808\n",
              "4   0.023712  0.994855  0.069974        0.9806\n",
              "5   0.022461  0.995436  0.067973        0.9800\n",
              "6   0.021241  0.995636  0.067556        0.9816\n",
              "7   0.020161  0.996036  0.067419        0.9810\n",
              "8   0.019101  0.996618  0.067282        0.9812\n",
              "9   0.018187  0.996873  0.068065        0.9816\n",
              "10  0.017225  0.997036  0.068316        0.9802\n",
              "11  0.016370  0.997345  0.068429        0.9810\n",
              "12  0.015531  0.997545  0.069849        0.9802\n",
              "13  0.014717  0.997855  0.067995        0.9816"
            ]
          },
          "execution_count": 47,
          "metadata": {},
          "output_type": "execute_result"
        }
      ],
      "source": [
        "pd.DataFrame(history.history)"
      ]
    },
    {
      "cell_type": "code",
      "execution_count": 48,
      "metadata": {
        "colab": {
          "base_uri": "https://localhost:8080/",
          "height": 447
        },
        "id": "Uw8c_E9iIhCC",
        "outputId": "b4d608eb-05b2-4207-d949-45cf93fdc243"
      },
      "outputs": [
        {
          "data": {
            "text/plain": [
              "<Axes: >"
            ]
          },
          "execution_count": 48,
          "metadata": {},
          "output_type": "execute_result"
        },
        {
          "data": {
            "image/png": "[encoded data removed]",
            "text/plain": [
              "<Figure size 640x480 with 1 Axes>"
            ]
          },
          "metadata": {},
          "output_type": "display_data"
        }
      ],
      "source": [
        "pd.DataFrame(history.history).plot()"
      ]
    },
    {
      "cell_type": "code",
      "execution_count": 50,
      "metadata": {
        "colab": {
          "base_uri": "https://localhost:8080/"
        },
        "id": "XjLKNneuImfI",
        "outputId": "ad76d9bb-b0c5-45fd-b362-2ef319558532"
      },
      "outputs": [
        {
          "name": "stdout",
          "output_type": "stream",
          "text": [
            "313/313 [==============================] - 2s 6ms/step - loss: 0.0676 - accuracy: 0.9788\n"
          ]
        },
        {
          "data": {
            "text/plain": [
              "[0.06760627031326294, 0.9787999987602234]"
            ]
          },
          "execution_count": 50,
          "metadata": {},
          "output_type": "execute_result"
        }
      ],
      "source": [
        "model_clf.evaluate(x_test,y_test)"
      ]
    },
    {
      "cell_type": "code",
      "execution_count": 53,
      "metadata": {
        "id": "kX-1INJPIswM"
      },
      "outputs": [],
      "source": [
        "x_new = x_test[:3]\n",
        "x_new;"
      ]
    },
    {
      "cell_type": "code",
      "execution_count": 54,
      "metadata": {
        "colab": {
          "base_uri": "https://localhost:8080/"
        },
        "id": "LTLo2e6_I1Fm",
        "outputId": "fd5bcfbb-c354-4262-a32e-916a358a0081"
      },
      "outputs": [
        {
          "name": "stdout",
          "output_type": "stream",
          "text": [
            "1/1 [==============================] - 0s 133ms/step\n"
          ]
        },
        {
          "data": {
            "text/plain": [
              "array([[0.   , 0.   , 0.   , 0.   , 0.   , 0.   , 0.   , 1.   , 0.   ,\n",
              "        0.   ],\n",
              "       [0.   , 0.   , 1.   , 0.   , 0.   , 0.   , 0.   , 0.   , 0.   ,\n",
              "        0.   ],\n",
              "       [0.   , 0.993, 0.   , 0.   , 0.001, 0.   , 0.   , 0.001, 0.004,\n",
              "        0.   ]], dtype=float32)"
            ]
          },
          "execution_count": 54,
          "metadata": {},
          "output_type": "execute_result"
        }
      ],
      "source": [
        "y_prob = model_clf.predict(x_new)\n",
        "y_prob.round(3)"
      ]
    },
    {
      "cell_type": "code",
      "execution_count": 55,
      "metadata": {
        "colab": {
          "base_uri": "https://localhost:8080/"
        },
        "id": "ji7nZ2PjJEdc",
        "outputId": "9859ecb7-e284-47e6-dd03-ceb00e6da1de"
      },
      "outputs": [
        {
          "data": {
            "text/plain": [
              "array([[1.2272716e-06, 1.8236460e-07, 1.0962923e-04, 1.6768226e-04,\n",
              "        8.6528340e-10, 8.6076460e-07, 5.9768219e-12, 9.9967945e-01,\n",
              "        1.5048884e-06, 3.9445829e-05],\n",
              "       [2.9472676e-07, 1.0596239e-05, 9.9975973e-01, 2.2289758e-04,\n",
              "        1.4090137e-11, 4.8165003e-07, 2.3890453e-07, 2.5706021e-10,\n",
              "        5.8228406e-06, 2.5188453e-13],\n",
              "       [3.3392716e-05, 9.9324143e-01, 3.1301705e-04, 2.0203907e-04,\n",
              "        6.6242804e-04, 6.1477731e-05, 2.3007204e-04, 1.3725370e-03,\n",
              "        3.7879217e-03, 9.5670504e-05]], dtype=float32)"
            ]
          },
          "execution_count": 55,
          "metadata": {},
          "output_type": "execute_result"
        }
      ],
      "source": [
        "y_prob"
      ]
    },
    {
      "cell_type": "code",
      "execution_count": 56,
      "metadata": {
        "colab": {
          "base_uri": "https://localhost:8080/"
        },
        "id": "c-p9xS-6JGp8",
        "outputId": "d86e9912-c7e4-45b0-ba23-cebcfc494308"
      },
      "outputs": [
        {
          "data": {
            "text/plain": [
              "array([7, 2, 1])"
            ]
          },
          "execution_count": 56,
          "metadata": {},
          "output_type": "execute_result"
        }
      ],
      "source": [
        "y_pred = np.argmax(y_prob , axis= 1)\n",
        "y_pred"
      ]
    },
    {
      "cell_type": "code",
      "execution_count": 58,
      "metadata": {
        "colab": {
          "base_uri": "https://localhost:8080/"
        },
        "id": "UFB67s2LJPzi",
        "outputId": "3e655bf4-a08a-4553-b8b4-1629f8792dd3"
      },
      "outputs": [
        {
          "data": {
            "text/plain": [
              "array([7, 2, 1], dtype=uint8)"
            ]
          },
          "execution_count": 58,
          "metadata": {},
          "output_type": "execute_result"
        }
      ],
      "source": [
        "actual = y_test[:3]\n",
        "actual"
      ]
    },
    {
      "cell_type": "code",
      "execution_count": null,
      "metadata": {
        "id": "sRIya60xJVV_"
      },
      "outputs": [],
      "source": []
    }
  ],
  "metadata": {
    "accelerator": "GPU",
    "colab": {
      "gpuType": "T4",
      "provenance": []
    },
    "kernelspec": {
      "display_name": "Python 3",
      "name": "python3"
    },
    "language_info": {
      "name": "python"
    }
  },
  "nbformat": 4,
  "nbformat_minor": 0
}
